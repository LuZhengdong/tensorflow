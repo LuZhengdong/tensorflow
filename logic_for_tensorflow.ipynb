{
 "cells": [
  {
   "cell_type": "code",
   "execution_count": 1,
   "metadata": {
    "collapsed": false
   },
   "outputs": [
    {
     "data": {
      "image/png": "[encoded data removed]",
      "text/plain": [
       "<matplotlib.figure.Figure at 0x111ba55c0>"
      ]
     },
     "metadata": {},
     "output_type": "display_data"
    }
   ],
   "source": [
    "import numpy as np\n",
    "import tensorflow as tf\n",
    "import matplotlib.pyplot as plt\n",
    "\n",
    "#随机生成1000个点，围绕y =0.1x + 0.3\n",
    "num_point = 1000\n",
    "vectors_set = []\n",
    "for i in range(num_point):\n",
    "    x1 = np.random.normal(0.0,0.55)#高斯初始化，以0为均值，0.55为标准差\n",
    "    y1 = x1*0.1 + 0.3 + np.random.normal(0.0,0.03)\n",
    "    vectors_set.append([x1,y1])\n",
    "\n",
    "#生成样本\n",
    "x_data = [v[0] for v in vectors_set]\n",
    "y_data = [v[1] for v in vectors_set]\n",
    "plt.scatter(x_data,y_data,c = 'r')\n",
    "plt.show()\n",
    "\n",
    "\n"
   ]
  },
  {
   "cell_type": "code",
   "execution_count": 2,
   "metadata": {
    "collapsed": false
   },
   "outputs": [
    {
     "name": "stdout",
     "output_type": "stream",
     "text": [
      "初始化w ＝  [ 0.63002157] b =  [ 0.] loss =  0.172594\n",
      "训练好的w ＝  [ 0.47368678] b =  [ 0.29833889] loss =  0.0418447\n",
      "训练好的w ＝  [ 0.36339843] b =  [ 0.29854247] loss =  0.0211304\n",
      "训练好的w ＝  [ 0.28586793] b =  [ 0.29868609] loss =  0.0108938\n",
      "训练好的w ＝  [ 0.23136552] b =  [ 0.29878706] loss =  0.00583504\n",
      "训练好的w ＝  [ 0.19305143] b =  [ 0.29885805] loss =  0.00333511\n",
      "训练好的w ＝  [ 0.16611737] b =  [ 0.29890794] loss =  0.00209969\n",
      "训练好的w ＝  [ 0.14718327] b =  [ 0.29894301] loss =  0.00148917\n",
      "训练好的w ＝  [ 0.13387299] b =  [ 0.29896766] loss =  0.00118746\n",
      "训练好的w ＝  [ 0.12451612] b =  [ 0.298985] loss =  0.00103836\n",
      "训练好的w ＝  [ 0.11793843] b =  [ 0.29899719] loss =  0.000964679\n",
      "训练好的w ＝  [ 0.11331445] b =  [ 0.29900575] loss =  0.000928267\n",
      "训练好的w ＝  [ 0.11006388] b =  [ 0.29901177] loss =  0.000910274\n",
      "训练好的w ＝  [ 0.1077788] b =  [ 0.299016] loss =  0.000901381\n",
      "训练好的w ＝  [ 0.10617243] b =  [ 0.29901898] loss =  0.000896987\n",
      "训练好的w ＝  [ 0.10504318] b =  [ 0.29902107] loss =  0.000894815\n",
      "训练好的w ＝  [ 0.10424934] b =  [ 0.29902256] loss =  0.000893742\n",
      "训练好的w ＝  [ 0.10369129] b =  [ 0.29902357] loss =  0.000893212\n",
      "训练好的w ＝  [ 0.10329899] b =  [ 0.29902431] loss =  0.000892949\n",
      "训练好的w ＝  [ 0.10302322] b =  [ 0.29902482] loss =  0.00089282\n",
      "训练好的w ＝  [ 0.10282935] b =  [ 0.29902518] loss =  0.000892756\n",
      "训练好的w ＝  [ 0.10269307] b =  [ 0.29902542] loss =  0.000892724\n",
      "训练好的w ＝  [ 0.10259726] b =  [ 0.2990256] loss =  0.000892709\n",
      "训练好的w ＝  [ 0.10252991] b =  [ 0.29902574] loss =  0.000892701\n",
      "训练好的w ＝  [ 0.10248256] b =  [ 0.29902583] loss =  0.000892697\n",
      "训练好的w ＝  [ 0.10244928] b =  [ 0.29902589] loss =  0.000892695\n"
     ]
    }
   ],
   "source": [
    "#生成1维的w矩阵，取值是［－1，1］之间的随机数\n",
    "w = tf.Variable(tf.random_uniform([1],-1.0,1.0),name='w')\n",
    "#生成1维b矩阵，初始值是0\n",
    "b = tf.Variable(tf.zeros([1]),name = 'b')\n",
    "#经过计算预估y\n",
    "y = w*x_data + b\n",
    "\n",
    "#以预估值y和实际值y_data之间的均方误差作为损失\n",
    "loss = tf.reduce_mean(tf.square(y-y_data),name='loss')\n",
    "#采用梯度下降优化\n",
    "optimizer = tf.train.GradientDescentOptimizer(0.5)\n",
    "\n",
    "#训练过程就是最小化误差\n",
    "train = optimizer.minimize(loss,name='train')\n",
    "\n",
    "sess = tf.Session()\n",
    "\n",
    "init = tf.global_variables_initializer();\n",
    "sess.run(init)\n",
    "\n",
    "#打印初始化的w和b是多少\n",
    "print(\"初始化w ＝ \",sess.run(w),\"b = \",sess.run(b),\"loss = \",sess.run(loss))\n",
    "\n",
    "for i in range(25):\n",
    "    sess.run(train)\n",
    "    print(\"训练好的w ＝ \",sess.run(w),\"b = \",sess.run(b),\"loss = \",sess.run(loss))"
   ]
  },
  {
   "cell_type": "code",
   "execution_count": 3,
   "metadata": {
    "collapsed": false
   },
   "outputs": [
    {
     "ename": "SyntaxError",
     "evalue": "invalid syntax (<ipython-input-3-c102ffae8b0c>, line 3)",
     "output_type": "error",
     "traceback": [
      "\u001b[0;36m  File \u001b[0;32m\"<ipython-input-3-c102ffae8b0c>\"\u001b[0;36m, line \u001b[0;32m3\u001b[0m\n\u001b[0;31m    plt.show()\u001b[0m\n\u001b[0m      ^\u001b[0m\n\u001b[0;31mSyntaxError\u001b[0m\u001b[0;31m:\u001b[0m invalid syntax\n"
     ]
    }
   ],
   "source": [
    "plt.scatter(x_data,y_data,c = 'r')\n",
    "plt.plot(x_data,sess.run(y)\n",
    "plt.show()"
   ]
  }
 ],
 "metadata": {
  "kernelspec": {
   "display_name": "Python 3",
   "language": "python",
   "name": "python3"
  },
  "language_info": {
   "codemirror_mode": {
    "name": "ipython",
    "version": 3
   },
   "file_extension": ".py",
   "mimetype": "text/x-python",
   "name": "python",
   "nbconvert_exporter": "python",
   "pygments_lexer": "ipython3",
   "version": "3.6.0"
  }
 },
 "nbformat": 4,
 "nbformat_minor": 2
}
