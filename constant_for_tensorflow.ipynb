{
 "cells": [
  {
   "cell_type": "code",
   "execution_count": 3,
   "metadata": {
    "collapsed": false
   },
   "outputs": [
    {
     "name": "stdout",
     "output_type": "stream",
     "text": [
      "[[ 2.]]\n"
     ]
    }
   ],
   "source": [
    "import tensorflow as tf\n",
    "\n",
    "#create variable\n",
    "w = tf.Variable([[0.5,1.0]])\n",
    "x = tf.Variable([[2.0],[1.0]])\n",
    "y = tf.matmul(w,x)#矩阵乘法\n",
    "\n",
    "#init all the variable\n",
    "init = tf.global_variables_initializer()\n",
    "\n",
    "with tf.Session() as sess:\n",
    "    sess.run(init)\n",
    "    print(y.eval())#输出y的值使用的方法\n",
    "\n"
   ]
  },
  {
   "cell_type": "code",
   "execution_count": null,
   "metadata": {
    "collapsed": true
   },
   "outputs": [],
   "source": [
    "#常用变量定义方法\n",
    "tf.zeros([3,4],int32)  #[[0,0,0,0],[0,0,0,0],[0,0,0,0]]\n",
    "\n",
    "a = tf.Variable([[1,2,3,],[4,5,6]])\n",
    "tf.zeros_like(a)  #[[0,0,0],[0,0,0]]\n",
    "tf.ones([2,3],int32) #[[1,1,1],[1,1,1]]\n",
    "\n",
    "tf.ones_like(a) #[[1,1,1],[1,1,1]]\n",
    "tf.constant([0,1,2,3,4,5,6,7,8,9])  #[0,1,2,3,4,5,6,7,8,9]\n",
    "tf.constant(-1.0,shape=[2,3])  #[[-1,-1,-1],[-1,-1,-1]]\n",
    "\n",
    "tf.linspace(10.0,12.0,3,name=\"linspace\") #[10.0,11.0,12.0]\n",
    "\n",
    "tf.range(3,18,3)  #start=3,limit=18,delta=3 -->[3,6,9,12,15]"
   ]
  },
  {
   "cell_type": "code",
   "execution_count": 5,
   "metadata": {
    "collapsed": false
   },
   "outputs": [
    {
     "name": "stdout",
     "output_type": "stream",
     "text": [
      "[[-0.14204991 -1.49900603  3.16531849]\n",
      " [ 4.92492485 -6.25042295  4.08944464]]\n",
      "[[1 2]\n",
      " [5 6]\n",
      " [3 4]]\n"
     ]
    }
   ],
   "source": [
    "norm = tf.random_normal([2,3],mean = -1,stddev = 4) #mean 为均值，stddev为方差\n",
    "c = tf.constant([[1,2],[3,4],[5,6]])\n",
    "shuff = tf.random_shuffle(c)#洗牌操作\n",
    "\n",
    "sess = tf.Session()\n",
    "print(sess.run(norm))\n",
    "print(sess.run(shuff))"
   ]
  },
  {
   "cell_type": "code",
   "execution_count": 12,
   "metadata": {
    "collapsed": false
   },
   "outputs": [
    {
     "name": "stdout",
     "output_type": "stream",
     "text": [
      "0\n",
      "1\n",
      "2\n",
      "3\n"
     ]
    }
   ],
   "source": [
    "#0为初始值，累计三次加1\n",
    "init = tf.Variable(0)\n",
    "result = tf.add(init,tf.Variable(1))\n",
    "update = tf.assign(init,result)\n",
    "\n",
    "with tf.Session() as sess:\n",
    "    sess.run(tf.global_variables_initializer())\n",
    "    print(sess.run(init))\n",
    "    for i in range(3):\n",
    "        sess.run(update)\n",
    "        print(sess.run(init))"
   ]
  },
  {
   "cell_type": "code",
   "execution_count": 18,
   "metadata": {
    "collapsed": false
   },
   "outputs": [
    {
     "name": "stdout",
     "output_type": "stream",
     "text": [
      "//Users//luzhengdong//workplat//test\n"
     ]
    }
   ],
   "source": [
    "#tf.train.Saver\n",
    "w = tf.Variable([[0.5,1.0]])\n",
    "x = tf.Variable([[2.0],[1.0]])\n",
    "y = tf.matmul(w,x)#矩阵乘法\n",
    "\n",
    "#init all the variable\n",
    "init = tf.global_variables_initializer()\n",
    "saver = tf.train.Saver()\n",
    "with tf.Session() as sess:\n",
    "    sess.run(init)\n",
    "    \n",
    "    save_path = saver.save(sess,\"//Users//luzhengdong//workplat//test\")\n",
    "    print(save_path)\n"
   ]
  },
  {
   "cell_type": "code",
   "execution_count": 19,
   "metadata": {
    "collapsed": false
   },
   "outputs": [
    {
     "name": "stdout",
     "output_type": "stream",
     "text": [
      "[[ 0.  0.  0.]\n",
      " [ 0.  0.  0.]\n",
      " [ 0.  0.  0.]]\n"
     ]
    }
   ],
   "source": [
    "import numpy as np\n",
    "\n",
    "a = np.zeros((3,3))\n",
    "b = tf.convert_to_tensor(a)\n",
    "\n",
    "with tf.Session() as sess:\n",
    "    print(sess.run(b))"
   ]
  },
  {
   "cell_type": "code",
   "execution_count": 25,
   "metadata": {
    "collapsed": false
   },
   "outputs": [
    {
     "name": "stdout",
     "output_type": "stream",
     "text": [
      "[array([ 14.], dtype=float32)]\n"
     ]
    }
   ],
   "source": [
    "input1 = tf.placeholder(tf.float32)\n",
    "input2 = tf.placeholder(tf.float32)\n",
    "\n",
    "result = tf.multiply(input1,input2)\n",
    "\n",
    "with tf.Session() as sess:\n",
    "    print(sess.run([result],feed_dict={input1:[7.],input2:[2.]})) #[result] 加中括号可以打印出dtype，不加直接打印出结果"
   ]
  },
  {
   "cell_type": "code",
   "execution_count": 26,
   "metadata": {
    "collapsed": false
   },
   "outputs": [
    {
     "name": "stdout",
     "output_type": "stream",
     "text": [
      "3.5\n",
      "[ 2.5  3.5  4.5]\n",
      "[ 2.  5.]\n"
     ]
    }
   ],
   "source": [
    "#reduce_mean 举例\n",
    "import numpy as np\n",
    "import tensorflow as tf\n",
    "\n",
    "x = np.array([[1.,2.,3.],[4.,5.,6.]])\n",
    "sess = tf.Session()\n",
    "\n",
    "mean1 = sess.run(tf.reduce_mean(x))\n",
    "mean2 = sess.run(tf.reduce_mean(x, 0))\n",
    "mean3 = sess.run(tf.reduce_mean(x, 1))\n",
    "\n",
    "print (mean1)\n",
    "print (mean2)\n",
    "print (mean3)"
   ]
  },
  {
   "cell_type": "code",
   "execution_count": null,
   "metadata": {
    "collapsed": true
   },
   "outputs": [],
   "source": [
    "arr = np.array([[31,23,4,24,27,34],\n",
    "\t\t\t\t[18,3,25,0,6,35],\n",
    "\t\t\t\t[28,14,33,22,20,8],\n",
    "\t\t\t\t[13,30,21,19,7,9],\n",
    "\t\t\t\t[16,1,26,32,2,29],\n",
    "\t\t\t\t[17,12,5,11,10,15]\n",
    "                \n"
   ]
  }
 ],
 "metadata": {
  "kernelspec": {
   "display_name": "Python 3",
   "language": "python",
   "name": "python3"
  },
  "language_info": {
   "codemirror_mode": {
    "name": "ipython",
    "version": 3
   },
   "file_extension": ".py",
   "mimetype": "text/x-python",
   "name": "python",
   "nbconvert_exporter": "python",
   "pygments_lexer": "ipython3",
   "version": "3.6.0"
  }
 },
 "nbformat": 4,
 "nbformat_minor": 2
}
